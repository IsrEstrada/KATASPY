{
 "cells": [
  {
   "cell_type": "code",
   "execution_count": 6,
   "metadata": {},
   "outputs": [
    {
     "name": "stdout",
     "output_type": "stream",
     "text": [
      "Un asteroide se acerca!\n"
     ]
    }
   ],
   "source": [
    "Asteroide_hacia_la_tierra = 49\n",
    "if Asteroide_hacia_la_tierra > 25:\n",
    "    print(\"Un asteroide se acerca!\")\n",
    "else:\n",
    "    print(\"No hay peligro por hoy\")"
   ]
  },
  {
   "cell_type": "code",
   "execution_count": 26,
   "metadata": {},
   "outputs": [
    {
     "name": "stdout",
     "output_type": "stream",
     "text": [
      "no es visible el rayo\n"
     ]
    }
   ],
   "source": [
    "Velocidad_asteroide = 19\n",
    "Rayo_de_luz = 20\n",
    "if Velocidad_asteroide == Rayo_de_luz:\n",
    "    print(\"Buscar la luz\")\n",
    "elif Velocidad_asteroide >= Rayo_de_luz:\n",
    "    print(\"Rayo de luz visible\")\n",
    "else:\n",
    "    print(\"no es visible el rayo\")\n"
   ]
  },
  {
   "cell_type": "code",
   "execution_count": 31,
   "metadata": {},
   "outputs": [
    {
     "name": "stdout",
     "output_type": "stream",
     "text": [
      "se desvanecera\n"
     ]
    }
   ],
   "source": [
    "Tamaño_Asteroide = 20\n",
    "Velocidad_asteroide =19\n",
    "if Tamaño_Asteroide and Velocidad_asteroide > 25:\n",
    "    print(\"Hay peligro\")\n",
    "elif Velocidad_asteroide >= 20:\n",
    "    print(\"Se observa la luz\")\n",
    "elif Tamaño_Asteroide < 25:\n",
    "    print(\"se desvanecera\") \n",
    "else:\n",
    "    (\"no hay peligro por hoy\")"
   ]
  }
 ],
 "metadata": {
  "interpreter": {
   "hash": "74e8b186620a92036033cdac0b8cf6e6b778dff69e24ab5715f32bc4b28b4008"
  },
  "kernelspec": {
   "display_name": "Python 3.10.2 64-bit (windows store)",
   "language": "python",
   "name": "python3"
  },
  "language_info": {
   "codemirror_mode": {
    "name": "ipython",
    "version": 3
   },
   "file_extension": ".py",
   "mimetype": "text/x-python",
   "name": "python",
   "nbconvert_exporter": "python",
   "pygments_lexer": "ipython3",
   "version": "3.10.2"
  },
  "orig_nbformat": 4
 },
 "nbformat": 4,
 "nbformat_minor": 2
}
