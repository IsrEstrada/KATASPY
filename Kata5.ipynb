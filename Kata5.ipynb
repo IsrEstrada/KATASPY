{
 "cells": [
  {
   "cell_type": "code",
   "execution_count": 25,
   "metadata": {},
   "outputs": [],
   "source": [
    "from math import ceil, floor"
   ]
  },
  {
   "cell_type": "code",
   "execution_count": 42,
   "metadata": {},
   "outputs": [],
   "source": [
    "Tierra = int('149597870')\n",
    "Jupiter = int('778547200')"
   ]
  },
  {
   "cell_type": "code",
   "execution_count": 59,
   "metadata": {},
   "outputs": [
    {
     "name": "stdout",
     "output_type": "stream",
     "text": [
      "628949330\n",
      "390577534\n"
     ]
    }
   ],
   "source": [
    "Distancia_entre = abs(Tierra - Jupiter)\n",
    "print (Distancia_entre)\n",
    "Millas_distancia = abs(ceil(Distancia_entre * 0.621))\n",
    "print (Millas_distancia)"
   ]
  },
  {
   "cell_type": "code",
   "execution_count": 64,
   "metadata": {},
   "outputs": [],
   "source": [
    "Planet1 = input (\"escribe la distancia al sol del primer planeta\")\n",
    "Planet2 = input (\"escribe la distancia al sol del segundo planeta\")"
   ]
  },
  {
   "cell_type": "code",
   "execution_count": 66,
   "metadata": {},
   "outputs": [],
   "source": [
    "Planet1 = int(Planet1)\n",
    "Planet2 = int(Planet2)\n"
   ]
  },
  {
   "cell_type": "code",
   "execution_count": 72,
   "metadata": {},
   "outputs": [
    {
     "name": "stdout",
     "output_type": "stream",
     "text": [
      "60\n",
      "38\n"
     ]
    }
   ],
   "source": [
    "KM_distancia = Planet1 - Planet2\n",
    "print(KM_distancia)\n",
    "Milles = abs(ceil(KM_distancia * 0.621))\n",
    "print(Milles)"
   ]
  }
 ],
 "metadata": {
  "interpreter": {
   "hash": "74e8b186620a92036033cdac0b8cf6e6b778dff69e24ab5715f32bc4b28b4008"
  },
  "kernelspec": {
   "display_name": "Python 3.10.2 64-bit (windows store)",
   "language": "python",
   "name": "python3"
  },
  "language_info": {
   "codemirror_mode": {
    "name": "ipython",
    "version": 3
   },
   "file_extension": ".py",
   "mimetype": "text/x-python",
   "name": "python",
   "nbconvert_exporter": "python",
   "pygments_lexer": "ipython3",
   "version": "3.10.2"
  },
  "orig_nbformat": 4
 },
 "nbformat": 4,
 "nbformat_minor": 2
}
