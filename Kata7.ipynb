{
 "cells": [
  {
   "cell_type": "code",
   "execution_count": 6,
   "metadata": {},
   "outputs": [],
   "source": [
    "user_input =''\n",
    "mascota = []\n",
    "while user_input.lower() != 'gato':\n",
    "    if user_input:\n",
    "        mascota.append(user_input)\n",
    "    user_input = input(\"Mientras el valor sea diferente a gato, sigue escribiendo\")"
   ]
  },
  {
   "cell_type": "code",
   "execution_count": 7,
   "metadata": {},
   "outputs": [
    {
     "name": "stdout",
     "output_type": "stream",
     "text": [
      "perro\n",
      "canario\n",
      "ratón\n"
     ]
    }
   ],
   "source": [
    "for user_input in mascota:\n",
    "    print(user_input)"
   ]
  },
  {
   "cell_type": "code",
   "execution_count": 2,
   "metadata": {},
   "outputs": [],
   "source": [
    "New_planet =''\n",
    "Planets =[]"
   ]
  },
  {
   "cell_type": "code",
   "execution_count": 4,
   "metadata": {},
   "outputs": [],
   "source": [
    "while New_planet.lower() !='done':\n",
    "    if New_planet:\n",
    "        Planets.append(New_planet)\n",
    "    New_planet =input('escribe el nombre de los planetas, al finalizar escribe done')\n"
   ]
  },
  {
   "cell_type": "code",
   "execution_count": 5,
   "metadata": {},
   "outputs": [
    {
     "name": "stdout",
     "output_type": "stream",
     "text": [
      "Mercury\n",
      "Venus\n",
      "Uranus\n"
     ]
    }
   ],
   "source": [
    "for planet in Planets:\n",
    "    print(planet)"
   ]
  }
 ],
 "metadata": {
  "interpreter": {
   "hash": "74e8b186620a92036033cdac0b8cf6e6b778dff69e24ab5715f32bc4b28b4008"
  },
  "kernelspec": {
   "display_name": "Python 3.10.2 64-bit (windows store)",
   "language": "python",
   "name": "python3"
  },
  "language_info": {
   "codemirror_mode": {
    "name": "ipython",
    "version": 3
   },
   "file_extension": ".py",
   "mimetype": "text/x-python",
   "name": "python",
   "nbconvert_exporter": "python",
   "pygments_lexer": "ipython3",
   "version": "3.10.2"
  },
  "orig_nbformat": 4
 },
 "nbformat": 4,
 "nbformat_minor": 2
}
